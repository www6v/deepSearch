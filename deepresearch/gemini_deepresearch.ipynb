{
 "cells": [
  {
   "cell_type": "code",
   "execution_count": 38,
   "id": "95391f59-cf1e-49bb-9f1a-d48c1aae2ae2",
   "metadata": {},
   "outputs": [],
   "source": [
    "from IPython.display import Image"
   ]
  },
  {
   "cell_type": "markdown",
   "id": "4c633c9d-bd99-4bf7-b53f-5e66333d4d5e",
   "metadata": {},
   "source": [
    "- https://github.com/google-gemini/gemini-fullstack-langgraph-quickstart\n",
    "    - https://github.com/google-gemini/gemini-fullstack-langgraph-quickstart/blob/main/backend/src/agent/prompts.py\n",
    "    - https://github.com/langchain-ai/react-agent/tree/main/src/react_agent\n",
    "- 带着问题读源码\n",
    "    - prompt templates\n",
    "        - 学习 PE（Prompt Engineering）\n",
    "        - instructions & ICE（In Context Example） & Output format\n",
    "            - instructions：刻画的是约束\n",
    "            - ice：In-Context learning\n",
    "            - Output format：自动化整体的流程\n",
    "    - deep research 是如何实现的；\n",
    "        - agentic logic\n",
    "        - 数据流/信息流：graph 中的各个 node 都在读取加工数据\n",
    "    - 前后端全栈设计；\n",
    "        - frontend: React, Vite\n",
    "        - backend：langgraph-cli\n",
    "    - 多模型的经济且有效的组合；\n",
    "- complex search\n",
    "    - `what are all the companies in the united states working on AI agents in 2025? make a list of at least 100. for each company, include the name, website, product, description of what they do, type of agents they build, and their vertical/industry.`"
   ]
  },
  {
   "cell_type": "code",
   "execution_count": 42,
   "id": "8c5865ba-a8ce-4214-bac0-7323dfb2f48e",
   "metadata": {},
   "outputs": [
    {
     "data": {
      "text/html": [
       "<img src=\"./figs/graph.png\" width=\"100\"/>"
      ],
      "text/plain": [
       "<IPython.core.display.Image object>"
      ]
     },
     "execution_count": 42,
     "metadata": {},
     "output_type": "execute_result"
    }
   ],
   "source": [
    "# img_data = graph.get_graph().draw_mermaid_png()\n",
    "# with open('graph.png', 'wb') as f:\n",
    "#     f.write(img_data)\n",
    "Image(url='./figs/graph.png', width=100)"
   ]
  },
  {
   "cell_type": "markdown",
   "id": "f14c5c6d-e66e-4803-83bb-9f9fe1dd50c8",
   "metadata": {},
   "source": [
    "### full stack"
   ]
  },
  {
   "cell_type": "markdown",
   "id": "6900ae87-6869-4ec4-845f-d4dd0fae9fa7",
   "metadata": {},
   "source": [
    "- frontend/ ：包含使用 Vite 构建的 React 应用程序。\n",
    "    - `http://localhost:5173/`\n",
    "    - 技术选型\n",
    "        - React: 一个由 Facebook 开发的库，用于构建用户界面。它的核心思想是把界面拆分成一个个独立、可复用的“组件”（Components）。\n",
    "        - Vite: 一个现代化的前端构建工具和开发服务器。它的特点是“快”，能让你在修改代码后立刻看到浏览器中的变化。\n",
    "        - TypeScript: JavaScript 的一个超集，增加了静态类型检查。如果你熟悉 Python 的类型提示（Type Hinting），可以把它理解为前端的类型提示，能帮助我们更早地发现错误。\n",
    "    - `App.tsx`\n",
    "\n",
    "```typescript\n",
    "let initial_search_query_count = 0;\n",
    "let max_research_loops = 0;\n",
    "switch (effort) {\n",
    "  case \"low\":\n",
    "    initial_search_query_count = 1;\n",
    "    max_research_loops = 1;\n",
    "    break;\n",
    "  case \"medium\":\n",
    "    initial_search_query_count = 3;\n",
    "    max_research_loops = 3;\n",
    "    break;\n",
    "  case \"high\":\n",
    "    initial_search_query_count = 5;\n",
    "    max_research_loops = 10;\n",
    "    break;\n",
    "}\n",
    "\n",
    "...\n",
    "\n",
    "\n",
    "thread.submit({\n",
    "   messages: newMessages,\n",
    "   initial_search_query_count: initial_search_query_count,\n",
    "   max_research_loops: max_research_loops,\n",
    "   reasoning_model: model,\n",
    "});\n",
    "```\n",
    "\n",
    "- backend/ ：包含 LangGraph/FastAPI 应用程序，包括 research agent logic。\n",
    "    - langgraph：state machine\n",
    "- 启动 `make dev`（`Makefile` recipes）"
   ]
  },
  {
   "cell_type": "markdown",
   "id": "4d9c962f-1165-4e07-a22e-b41b4050d099",
   "metadata": {},
   "source": [
    "```mermaid\n",
    "sequenceDiagram\n",
    "    participant User as 用户\n",
    "    participant Browser as 浏览器 (前端 @ 5173)\n",
    "    participant Backend as 后端服务 (Agent @ 2024)\n",
    "\n",
    "    User->>+Browser: 1. 打开 http://localhost:5173\n",
    "    Browser->>+Backend: 2. useStream hook 建立连接到 http://localhost:2024\n",
    "    User->>Browser: 3. 输入问题并提交\n",
    "    Browser->>Backend: 4. 发送包含问题的 API 请求 (thread.submit)\n",
    "    activate Backend\n",
    "    Note over Backend: Agent 开始处理...<br/>(生成查询, 网络搜索, 反思)\n",
    "    Backend-->>Browser: 5. [流式] 返回处理过程中的事件\n",
    "    deactivate Backend\n",
    "    Browser->>User: 6. 实时更新UI，展示Agent活动\n",
    "    activate Backend\n",
    "    Backend-->>Browser: 7. [流式] 返回最终答案\n",
    "    deactivate Backend\n",
    "    Browser->>User: 8. 展示最终答案\n",
    "```"
   ]
  },
  {
   "cell_type": "markdown",
   "id": "0059e3de-c16c-4b91-8078-713a36d53015",
   "metadata": {},
   "source": [
    "### 模型组合"
   ]
  },
  {
   "cell_type": "markdown",
   "id": "3687af6c-7c99-461c-ada3-be165d1c383d",
   "metadata": {},
   "source": [
    "- 前端表单\n",
    "    ```python\n",
    "    const [effort, setEffort] = useState(\"medium\");\n",
    "    const [model, setModel] = useState(\"gemini-2.5-flash-preview-04-17\");\n",
    "    ```\n",
    "    - effort\n",
    "```tsx\n",
    "switch (effort) {\n",
    "    case \"low\":\n",
    "      initial_search_query_count = 1;\n",
    "      max_research_loops = 1;\n",
    "      break;\n",
    "    case \"medium\":\n",
    "      initial_search_query_count = 3;\n",
    "      max_research_loops = 3;\n",
    "      break;\n",
    "    case \"high\":\n",
    "      initial_search_query_count = 5;\n",
    "      max_research_loops = 10;\n",
    "      break;\n",
    "}\n",
    "```\n",
    "    - model\n",
    "        - gemini-2.0-flash\n",
    "        - gemini-2.5-flash-preview-04-17\n",
    "        - gemini-2.5-pro-preview-05-06\n",
    "- 后端\n",
    "    - query_generator_model：gemini-2.0-flash\n",
    "    - reflection_model：gemini-2.5-flash-preview-04-17\n",
    "    - answer_model：gemini-2.5-pro-preview-05-06"
   ]
  },
  {
   "cell_type": "markdown",
   "id": "6f0d07f5-9d4a-4b62-99d8-f29d30bf4a6b",
   "metadata": {},
   "source": [
    "### query_writer_instructions"
   ]
  },
  {
   "cell_type": "markdown",
   "id": "4d7809e3-ad57-459f-bf14-88038eb5eb06",
   "metadata": {},
   "source": [
    "- user (complex) query => single sub-queries\n",
    "- format output\n",
    "    ```python\n",
    "    - Format your response as a JSON object with ALL three of these exact keys:\n",
    "       - \"rationale\": Brief explanation of why these queries are relevant\n",
    "       - \"query\": A list of search queries\n",
    "    ```\n",
    "- ice (in-context eamples)\n",
    "```\n",
    "Topic: What revenue grew more last year apple stock or the number of people buying an iphone\n",
    "```json\n",
    "{{\n",
    "    \"rationale\": \"To answer this comparative growth question accurately, we need specific data points on Apple's stock performance and iPhone sales metrics. These queries target the precise financial information needed: company revenue trends, product-specific unit sales figures, and stock price movement over the same fiscal period for direct comparison.\",\n",
    "    \"query\": [\"Apple total revenue growth fiscal year 2024\", \"iPhone unit sales growth fiscal year 2024\", \"Apple stock price growth fiscal year 2024\"],\n",
    "}}\n",
    "```\n",
    "```"
   ]
  },
  {
   "cell_type": "markdown",
   "id": "51bf74e7-0706-4320-9638-e21708f5104a",
   "metadata": {},
   "source": [
    "### langgraph"
   ]
  },
  {
   "cell_type": "markdown",
   "id": "92b4d44e-64d0-40a1-b53b-a672bd28f403",
   "metadata": {},
   "source": [
    "### tools"
   ]
  },
  {
   "cell_type": "markdown",
   "id": "4226fc1f-5ded-48ef-8439-3d872b28dd38",
   "metadata": {},
   "source": [
    "```python\n",
    "response = genai_client.models.generate_content(\n",
    "    model=configurable.query_generator_model,\n",
    "    contents=formatted_prompt,\n",
    "    config={\n",
    "        \"tools\": [{\"google_search\": {}}],\n",
    "        \"temperature\": 0,\n",
    "    },\n",
    ")\n",
    "```"
   ]
  },
  {
   "cell_type": "code",
   "execution_count": 5,
   "id": "526e3843-3de5-4816-aa6f-ac5c484c16d1",
   "metadata": {},
   "outputs": [],
   "source": [
    "# !pip install google-genai\n",
    "# !pip install langchain-google-genai"
   ]
  },
  {
   "cell_type": "code",
   "execution_count": 7,
   "id": "e890fcbf-0cd9-4b2f-bff4-21c97186a0b0",
   "metadata": {},
   "outputs": [],
   "source": [
    "from google.genai import Client\n",
    "from langchain_google_genai import ChatGoogleGenerativeAI"
   ]
  },
  {
   "cell_type": "code",
   "execution_count": 27,
   "id": "5c298eca-f7a0-42d0-884f-26053992c36a",
   "metadata": {},
   "outputs": [],
   "source": [
    "from dotenv import load_dotenv\n",
    "assert load_dotenv()"
   ]
  },
  {
   "cell_type": "code",
   "execution_count": 9,
   "id": "c35b2b84-4a58-4d76-98e1-b3d62e7d4e07",
   "metadata": {},
   "outputs": [],
   "source": [
    "genai_client = Client()"
   ]
  },
  {
   "cell_type": "code",
   "execution_count": 10,
   "id": "4d347889-70bf-4e06-900a-6be8a8a0a8f0",
   "metadata": {},
   "outputs": [],
   "source": [
    "web_searcher_instructions = \"\"\"Conduct targeted Google Searches to gather the most recent, credible information on \"{research_topic}\" and synthesize it into a verifiable text artifact.\n",
    "\n",
    "Instructions:\n",
    "- Query should ensure that the most current information is gathered. The current date is {current_date}.\n",
    "- Conduct multiple, diverse searches to gather comprehensive information.\n",
    "- Consolidate key findings while meticulously tracking the source(s) for each specific piece of information.\n",
    "- The output should be a well-written summary or report based on your search findings. \n",
    "- Only include the information found in the search results, don't make up any information.\n",
    "\n",
    "Research Topic:\n",
    "{research_topic}\n",
    "\"\"\""
   ]
  },
  {
   "cell_type": "code",
   "execution_count": 12,
   "id": "a8516d42-6ea7-42ad-a72d-04e48795643f",
   "metadata": {},
   "outputs": [],
   "source": [
    "from datetime import datetime\n",
    "def get_current_date():\n",
    "    return datetime.now().strftime(\"%B %d, %Y\")"
   ]
  },
  {
   "cell_type": "code",
   "execution_count": 13,
   "id": "f6853482-b476-436d-98ad-d3ede44bda86",
   "metadata": {},
   "outputs": [],
   "source": [
    "formatted_prompt = web_searcher_instructions.format(\n",
    "    current_date=get_current_date(),\n",
    "    research_topic=\"今年高考新闻\",\n",
    ")"
   ]
  },
  {
   "cell_type": "code",
   "execution_count": 14,
   "id": "34151297-5981-4291-8c14-4dcf5c04f9df",
   "metadata": {},
   "outputs": [],
   "source": [
    "# Uses the google genai client as the langchain client doesn't return grounding metadata\n",
    "response = genai_client.models.generate_content(\n",
    "    model='gemini-2.0-flash',\n",
    "    contents=formatted_prompt,\n",
    "    config={\n",
    "        \"tools\": [{\"google_search\": {}}],\n",
    "        \"temperature\": 0,\n",
    "    },\n",
    ")"
   ]
  },
  {
   "cell_type": "code",
   "execution_count": 31,
   "id": "ba4957ea-e43a-4e4c-b972-29fa16f9d072",
   "metadata": {},
   "outputs": [],
   "source": [
    "# response.text: 报告正文\n",
    "# response.candidates[0].grounding_metadata: \n",
    "# response.candidates[0].grounding_metadata.grounding_chunks: 存着所有找到的网页来源\n",
    "# response.candidates[0].grounding_metadata.grounding_supports"
   ]
  },
  {
   "cell_type": "code",
   "execution_count": 32,
   "id": "122f2f11-fc1c-40bd-a261-a2a48027706d",
   "metadata": {},
   "outputs": [
    {
     "data": {
      "text/plain": [
       "GroundingChunk(retrieved_context=None, web=GroundingChunkWeb(domain=None, title='xuancheng.gov.cn', uri='https://vertexaisearch.cloud.google.com/grounding-api-redirect/AUZIYQHsXRtCzlcdd_viRJgWBj6T4TDIDSUn9UXw0RG_hM2clvcQRanFubcwUOHKuYfHVfrK46OBAoiId6TnrfXFCqE4ppJC8RSHVoRkhUD_oTI93YED5IrM-Io2V4juutIxXTXw_5-OA6e8_emgz9B-tQ=='))"
      ]
     },
     "execution_count": 32,
     "metadata": {},
     "output_type": "execute_result"
    }
   ],
   "source": [
    "response.candidates[0].grounding_metadata.grounding_chunks[0]"
   ]
  },
  {
   "cell_type": "code",
   "execution_count": 33,
   "id": "189ae365-5324-4b0d-bcac-d2b779a0dc4a",
   "metadata": {},
   "outputs": [
    {
     "data": {
      "text/plain": [
       "GroundingSupport(confidence_scores=None, grounding_chunk_indices=[0, 1, 2, 3, 4, 5, 6], segment=Segment(end_index=311, part_index=None, start_index=307, text='**1.'))"
      ]
     },
     "execution_count": 33,
     "metadata": {},
     "output_type": "execute_result"
    }
   ],
   "source": [
    "response.candidates[0].grounding_metadata.grounding_supports[0]"
   ]
  },
  {
   "cell_type": "code",
   "execution_count": 35,
   "id": "d0618fb7-19be-49c7-b832-e78933aafead",
   "metadata": {},
   "outputs": [
    {
     "data": {
      "text/plain": [
       "(18, 64)"
      ]
     },
     "execution_count": 35,
     "metadata": {},
     "output_type": "execute_result"
    }
   ],
   "source": [
    "len(response.candidates[0].grounding_metadata.grounding_chunks), len(response.candidates[0].grounding_metadata.grounding_supports)"
   ]
  },
  {
   "cell_type": "code",
   "execution_count": 36,
   "id": "adeac243-38d6-498b-ac57-a22b33941ff0",
   "metadata": {},
   "outputs": [],
   "source": [
    "import json\n",
    "\n",
    "from IPython.display import display, HTML, Markdown\n",
    "\n",
    "\n",
    "def show_json(obj):\n",
    "  print(json.dumps(obj.model_dump(exclude_none=True), indent=2))\n",
    "\n",
    "def show_parts(r):\n",
    "  parts = r.candidates[0].content.parts\n",
    "  if parts is None:\n",
    "    finish_reason = r.candidates[0].finish_reason\n",
    "    print(f'{finish_reason=}')\n",
    "    return\n",
    "  for part in r.candidates[0].content.parts:\n",
    "    if part.text:\n",
    "      display(Markdown(part.text))\n",
    "    elif part.executable_code:\n",
    "      display(Markdown(f'```python\\n{part.executable_code.code}\\n```'))\n",
    "    else:\n",
    "      show_json(part)\n",
    "\n",
    "  grounding_metadata = r.candidates[0].grounding_metadata\n",
    "  if grounding_metadata and grounding_metadata.search_entry_point:\n",
    "    display(HTML(grounding_metadata.search_entry_point.rendered_content))"
   ]
  },
  {
   "cell_type": "code",
   "execution_count": 37,
   "id": "ec126099-202e-4df5-8bab-08b1a6581d17",
   "metadata": {},
   "outputs": [
    {
     "data": {
      "text/markdown": [
       "Okay, I will conduct targeted Google Searches to gather the most recent, credible information on \"今年高考新闻\" (This year's Gaokao news) and synthesize it into a verifiable text artifact.\n"
      ],
      "text/plain": [
       "<IPython.core.display.Markdown object>"
      ]
     },
     "metadata": {},
     "output_type": "display_data"
    },
    {
     "data": {
      "text/markdown": [
       "Here's a summary of the 2025 Gaokao (National College Entrance Examination) news, based on the search results:\n",
       "\n",
       "**1. Gaokao Completion and Key Dates:**\n",
       "\n",
       "*   The 2025 Gaokao has concluded in most provinces by June 10th. (2025-06-09, 2025-06-10, 2025-06-12, 2025-06-10)\n",
       "*   Score release dates are concentrated around June 23rd to 26th, with specific provinces like Tianjin (June 24th), Inner Mongolia (June 24th), Guangxi (June 25th afternoon), Sichuan (June 25th evening), Hebei (June 25th), Zhejiang (June 26th), and Shandong (June 26th) having projected dates. (2025-06-11, 2025-06-09, 2025-06-09)\n",
       "*   Several provinces have announced the start dates for志愿填报 (zhìyuàn tiánbào - volunteer filling/ application): Henan (June 26th), Hunan (June 26th), Shanxi (June 27th), Guizhou (June 28th-July 2nd), and Shandong (June 29th). (2025-06-10, 2025-06-14, 2025-06-09)\n",
       "*   Beijing's first志愿填报 is scheduled from June 27th to July 1st. (2025-06-09)\n",
       "\n",
       "**2. New Gaokao Reforms:**\n",
       "\n",
       "*   **New高考体系基本建立 (xīn gāokǎo tǐxì jīběn jiànlì - New Gaokao system basically established):** A new Gaokao system is being implemented in more regions. By 2025, 29 provinces have adopted the new Gaokao system. (2025-06-04)\n",
       "*   **\"3+1+2\" Model:** Sichuan, Henan, Shanxi, Inner Mongolia, Yunnan, Shaanxi, Qinghai and Ningxia are implementing the \"3+1+2\" model for the first time in 2025. This includes three unified national exam subjects (Chinese, Mathematics, Foreign Language), one compulsory subject chosen from Physics or History, and two elective subjects chosen from Chemistry, Geography, Politics, and Biology. (2025-06-04)\n",
       "*   **批次合并 (pīcì hébìng - Batch Mergers):** 取消区分一二本，合并为本科批次 (qǔxiāo qūfēn yī'èrběn, hébìng wèi běnkē pīcì - Cancel the distinction between the first and second batches, and merge them into the undergraduate batch). (2025-03-11)\n",
       "*   **志愿数量剧增 (zhìyuàn shùliàng jùzēng - The number of volunteers has increased sharply):** 新高考实行\"专业+院校\"的平行志愿模式 (xīn gāokǎo shíxíng \"zhuānyè+yuànxiào\" de píngxíng zhìyuàn móshì - The new Gaokao implements a parallel volunteer model of \"major + university\"). (2025-03-11)\n",
       "*   **等级赋分 (děngjí fùfēn - Grade assignment):** In some provinces, some subjects are graded using a \"等级赋分\" system where scores are converted to a grade. (2025-06-04)\n",
       "*   **投档录取 (tóudàng lùqǔ - Filing and admission):** 考生电子档案由投档到院校改为投档到院校专业组 (kǎoshēng diànzǐ dàng'àn yóu tóudàng dào yuànxiào gǎi wèi tóudàng dào yuànxiào zhuānyè zǔ - The electronic files of candidates are changed from being submitted to the university to being submitted to the university's major group). (2025-06-04)\n",
       "\n",
       "**3. 志愿填报 Considerations and Guidance:**\n",
       "\n",
       "*   Familiarize yourself with provincial Gaokao policies, gather information from reliable sources (official websites, 高考高招类报纸 (gāokǎo gāozhāo lèi bàozhǐ - Gaokao enrollment newspapers), etc.), and do a \"preliminary selection\" of志愿填报. (2025-06-14)\n",
       "*   模拟填报 (mónǐ tiánbào - Mock filling): It is important to do a \"模拟填报\" to avoid mistakes during the actual process. (2025-06-14)\n",
       "*   Consider factors such as your scores, the universities, and their programs. (2025-06-14)\n",
       "*   阳光高考信息平台 (yángguāng gāokǎo xìnxī píngtái - Sunshine Gaokao Information Platform) is an important resource. (2025-06-14)\n",
       "*   教育部 (jiàoyù bù - Ministry of Education) will conduct online and offline志愿填报 consulting activities. (2025-06-09, 2025-05-28)\n",
       "*   Be aware of the new志愿填报 methods under the new Gaokao system. (2025-05-08)\n",
       "*   Pay attention to the选科要求 (xuǎn kē yāoqiú - subject selection requirements) for志愿填报. (2025-03-11)\n",
       "*   高校招生章程 (gāoxiào zhāoshēng zhāngchéng - University Admissions Regulations) are an important source of information. (2025-05-27)\n",
       "\n",
       "**4. Key Policy Changes & Information:**\n",
       "\n",
       "*   公立学校 (gōnglì xuéxiào - Public schools) are prohibited from recruiting 高考复读生 (gāokǎo fùdúshēng - Gaokao repeaters). (2025-03-11)\n",
       "*   More foreign language options are available for the 外语科目 (wàiyǔ kēmù - foreign language subject). (2025-03-11)\n",
       "*   综合素质 (zōnghé sùzhì - Comprehensive quality) is included in the enrollment reference conditions. (2025-03-11)\n",
       "*   打击高考移民行为 (dǎjí gāokǎo yímín xíngwéi - Crackdown on Gaokao immigration). (2025-03-11)\n",
       "*   Some universities are expanding their招生省份范围 (zhāoshēng shěngfèn fànwéi - enrollment province scope). (2025-06-10)\n",
       "*   多所高校新增专业 (duō suǒ gāoxiào xīn zēng zhuānyè - Many universities have added new majors) or 招生项目 (zhāoshēng xiàngmù - enrollment projects). (2025-06-10)\n",
       "*   多所高校表示将放松学生转专业的限制 (duō suǒ gāoxiào biǎoshì jiāng fàngsōng xuéshēng zhuǎn zhuānyè de xiànzhì - Many universities have stated that they will relax restrictions on students changing majors). (2025-06-10)\n",
       "*   外语听力 (wàiyǔ tīnglì - Foreign language listening) will be tested once in June, instead of twice in January. (2024-09-19)\n",
       "\n",
       "**5. Important Reminders and Cautions:**\n",
       "\n",
       "*   Be wary of scams related to提前查分 (tíqián cháfēn - checking scores in advance) and 补录名额 (bǔlù míng'é - supplementary enrollment quotas). (2025-06-09, 2025-06-10)\n",
       "*   Protect your personal information and be aware of potential information leaks. (2025-06-10, 2025-06-19)\n",
       "*   Check official channels for information. (2025-06-19)\n",
       "\n",
       "This information should provide a solid overview of the key news and updates related to the 2025 Gaokao.\n"
      ],
      "text/plain": [
       "<IPython.core.display.Markdown object>"
      ]
     },
     "metadata": {},
     "output_type": "display_data"
    },
    {
     "data": {
      "text/html": [
       "<style>\n",
       ".container {\n",
       "  align-items: center;\n",
       "  border-radius: 8px;\n",
       "  display: flex;\n",
       "  font-family: Google Sans, Roboto, sans-serif;\n",
       "  font-size: 14px;\n",
       "  line-height: 20px;\n",
       "  padding: 8px 12px;\n",
       "}\n",
       ".chip {\n",
       "  display: inline-block;\n",
       "  border: solid 1px;\n",
       "  border-radius: 16px;\n",
       "  min-width: 14px;\n",
       "  padding: 5px 16px;\n",
       "  text-align: center;\n",
       "  user-select: none;\n",
       "  margin: 0 8px;\n",
       "  -webkit-tap-highlight-color: transparent;\n",
       "}\n",
       ".carousel {\n",
       "  overflow: auto;\n",
       "  scrollbar-width: none;\n",
       "  white-space: nowrap;\n",
       "  margin-right: -12px;\n",
       "}\n",
       ".headline {\n",
       "  display: flex;\n",
       "  margin-right: 4px;\n",
       "}\n",
       ".gradient-container {\n",
       "  position: relative;\n",
       "}\n",
       ".gradient {\n",
       "  position: absolute;\n",
       "  transform: translate(3px, -9px);\n",
       "  height: 36px;\n",
       "  width: 9px;\n",
       "}\n",
       "@media (prefers-color-scheme: light) {\n",
       "  .container {\n",
       "    background-color: #fafafa;\n",
       "    box-shadow: 0 0 0 1px #0000000f;\n",
       "  }\n",
       "  .headline-label {\n",
       "    color: #1f1f1f;\n",
       "  }\n",
       "  .chip {\n",
       "    background-color: #ffffff;\n",
       "    border-color: #d2d2d2;\n",
       "    color: #5e5e5e;\n",
       "    text-decoration: none;\n",
       "  }\n",
       "  .chip:hover {\n",
       "    background-color: #f2f2f2;\n",
       "  }\n",
       "  .chip:focus {\n",
       "    background-color: #f2f2f2;\n",
       "  }\n",
       "  .chip:active {\n",
       "    background-color: #d8d8d8;\n",
       "    border-color: #b6b6b6;\n",
       "  }\n",
       "  .logo-dark {\n",
       "    display: none;\n",
       "  }\n",
       "  .gradient {\n",
       "    background: linear-gradient(90deg, #fafafa 15%, #fafafa00 100%);\n",
       "  }\n",
       "}\n",
       "@media (prefers-color-scheme: dark) {\n",
       "  .container {\n",
       "    background-color: #1f1f1f;\n",
       "    box-shadow: 0 0 0 1px #ffffff26;\n",
       "  }\n",
       "  .headline-label {\n",
       "    color: #fff;\n",
       "  }\n",
       "  .chip {\n",
       "    background-color: #2c2c2c;\n",
       "    border-color: #3c4043;\n",
       "    color: #fff;\n",
       "    text-decoration: none;\n",
       "  }\n",
       "  .chip:hover {\n",
       "    background-color: #353536;\n",
       "  }\n",
       "  .chip:focus {\n",
       "    background-color: #353536;\n",
       "  }\n",
       "  .chip:active {\n",
       "    background-color: #464849;\n",
       "    border-color: #53575b;\n",
       "  }\n",
       "  .logo-light {\n",
       "    display: none;\n",
       "  }\n",
       "  .gradient {\n",
       "    background: linear-gradient(90deg, #1f1f1f 15%, #1f1f1f00 100%);\n",
       "  }\n",
       "}\n",
       "</style>\n",
       "<div class=\"container\">\n",
       "  <div class=\"headline\">\n",
       "    <svg class=\"logo-light\" width=\"18\" height=\"18\" viewBox=\"9 9 35 35\" fill=\"none\" xmlns=\"http://www.w3.org/2000/svg\">\n",
       "      <path fill-rule=\"evenodd\" clip-rule=\"evenodd\" d=\"M42.8622 27.0064C42.8622 25.7839 42.7525 24.6084 42.5487 23.4799H26.3109V30.1568H35.5897C35.1821 32.3041 33.9596 34.1222 32.1258 35.3448V39.6864H37.7213C40.9814 36.677 42.8622 32.2571 42.8622 27.0064V27.0064Z\" fill=\"#4285F4\"/>\n",
       "      <path fill-rule=\"evenodd\" clip-rule=\"evenodd\" d=\"M26.3109 43.8555C30.9659 43.8555 34.8687 42.3195 37.7213 39.6863L32.1258 35.3447C30.5898 36.3792 28.6306 37.0061 26.3109 37.0061C21.8282 37.0061 18.0195 33.9811 16.6559 29.906H10.9194V34.3573C13.7563 39.9841 19.5712 43.8555 26.3109 43.8555V43.8555Z\" fill=\"#34A853\"/>\n",
       "      <path fill-rule=\"evenodd\" clip-rule=\"evenodd\" d=\"M16.6559 29.8904C16.3111 28.8559 16.1074 27.7588 16.1074 26.6146C16.1074 25.4704 16.3111 24.3733 16.6559 23.3388V18.8875H10.9194C9.74388 21.2072 9.06992 23.8247 9.06992 26.6146C9.06992 29.4045 9.74388 32.022 10.9194 34.3417L15.3864 30.8621L16.6559 29.8904V29.8904Z\" fill=\"#FBBC05\"/>\n",
       "      <path fill-rule=\"evenodd\" clip-rule=\"evenodd\" d=\"M26.3109 16.2386C28.85 16.2386 31.107 17.1164 32.9095 18.8091L37.8466 13.8719C34.853 11.082 30.9659 9.3736 26.3109 9.3736C19.5712 9.3736 13.7563 13.245 10.9194 18.8875L16.6559 23.3388C18.0195 19.2636 21.8282 16.2386 26.3109 16.2386V16.2386Z\" fill=\"#EA4335\"/>\n",
       "    </svg>\n",
       "    <svg class=\"logo-dark\" width=\"18\" height=\"18\" viewBox=\"0 0 48 48\" xmlns=\"http://www.w3.org/2000/svg\">\n",
       "      <circle cx=\"24\" cy=\"23\" fill=\"#FFF\" r=\"22\"/>\n",
       "      <path d=\"M33.76 34.26c2.75-2.56 4.49-6.37 4.49-11.26 0-.89-.08-1.84-.29-3H24.01v5.99h8.03c-.4 2.02-1.5 3.56-3.07 4.56v.75l3.91 2.97h.88z\" fill=\"#4285F4\"/>\n",
       "      <path d=\"M15.58 25.77A8.845 8.845 0 0 0 24 31.86c1.92 0 3.62-.46 4.97-1.31l4.79 3.71C31.14 36.7 27.65 38 24 38c-5.93 0-11.01-3.4-13.45-8.36l.17-1.01 4.06-2.85h.8z\" fill=\"#34A853\"/>\n",
       "      <path d=\"M15.59 20.21a8.864 8.864 0 0 0 0 5.58l-5.03 3.86c-.98-2-1.53-4.25-1.53-6.64 0-2.39.55-4.64 1.53-6.64l1-.22 3.81 2.98.22 1.08z\" fill=\"#FBBC05\"/>\n",
       "      <path d=\"M24 14.14c2.11 0 4.02.75 5.52 1.98l4.36-4.36C31.22 9.43 27.81 8 24 8c-5.93 0-11.01 3.4-13.45 8.36l5.03 3.85A8.86 8.86 0 0 1 24 14.14z\" fill=\"#EA4335\"/>\n",
       "    </svg>\n",
       "    <div class=\"gradient-container\"><div class=\"gradient\"></div></div>\n",
       "  </div>\n",
       "  <div class=\"carousel\">\n",
       "    <a class=\"chip\" href=\"https://vertexaisearch.cloud.google.com/grounding-api-redirect/AUZIYQEhv4NJQeATax9RUQII3G2f3_NE9WPQQ0UJqZvqkPuluPaL1s-nBkfMR48ElIlDdMbSH_o-XLYVGi_RUgaNAjJUT21XgCckOeOUPHhK6G_YwRfUoh3YV5eTqjMFEXVQGQjOzTJKoMoq3NdmXeomNf332q5PPTQS5VPZvNrSiLoPDv1zyND6jh6P1u1yePAMnlsDyBQU1rk1SkJzo8NXehKNtqLqIotC97U92nfFwzRDnO0CSfXH9xT9Mof7_mja14I=\">2025 高考 最新消息</a>\n",
       "    <a class=\"chip\" href=\"https://vertexaisearch.cloud.google.com/grounding-api-redirect/AUZIYQHVRju5q77ViMXePc7Cxiq-ey0vOlktZc5v4s0fPLoPIx3gUO0SGUM3Vl7a47TU_Lw8_aMHh4yz7MHa6uNe25UaiR_3zT75pD22Z4blmAiSUbqRynlZnNHYJM_RJ3XDYn1Jy8CayeaaCkzdNPTJABee_ILRVoeZKrk51DhGAaFs-ZkqljAvpF5hiDdlo3rpVVPtIUIYU5Ph04rYMOaXZ1B5k9mpgthZ7lVv9-Pke7jAiKGrzQTs5rZQOteP6PrBgQ==\">今年高考新闻 2025</a>\n",
       "    <a class=\"chip\" href=\"https://vertexaisearch.cloud.google.com/grounding-api-redirect/AUZIYQH2LGXg3yxm1a0sNjgwQ14E5d2P2HWutHR18luRgDBhDiVc_tVQvmiukwyvBsMa4Zd-yp3GdISVzUDHRrSvKXKhs2UUDCRhcv4wxiNOrMY8w24yK4MnEjrGuFbOgx9oHT4Q24rjRQokbRaLOpI5gMTGdDMGrO3ch9LrRY6tLYiAppfozgwzS2HC8yvptovIr7iTHwsOzpvBaS6m0O_NmrAQikHQpBlf2ZxKmu4bkrwBuCU-t8aEzBkuSZ90gHufnW8=\">高考 2025 政策变化</a>\n",
       "    <a class=\"chip\" href=\"https://vertexaisearch.cloud.google.com/grounding-api-redirect/AUZIYQHKYSBEAXMbcf84cRKxlueNE0Be1jaKhbDnnYzdeJhTCVchjARQ4NQLZpn01KRP-n8WaEL0hdnodTe8tZYxn2JUhzrlXoXK00DuQ2CYR3fyYB3peqPBaLaUkoaHLsOFxF8c7D9CMkIVRyVc_kbPo-CYvVqqxSjGckFmyiK1XaVC2TZMmHuCoHgWj4OxLvmzdSscGerzzT15Ov0wVHRlB-fQmRukdYdJ-hr94x2wTk6Td-zxZqTqh0qpveMuTXBoUIA=\">高考 2025 志愿填报</a>\n",
       "    <a class=\"chip\" href=\"https://vertexaisearch.cloud.google.com/grounding-api-redirect/AUZIYQHsXZLCDXddzYfZ14sP-ehg48z3ocVynqRgIBtzgND2MAH6YtF8pws74MLg1RtUJcBky7KYMyDB6nXFe8a0W-7fYbmwy8WALF-o3Oipzaz6kEC85b6d3622f0eGF8Q2xhbWn5y105XCXoR6WidswEUyghP4jdrla-4XfTSe8RjX0gmrg_NNW1rX5XIv8-9jVGdHcY47MCMXbNSZWenqFmLcuAgyDvGtff1C1RH3KH5veNIl7jfz91Y8LauRrHq5P2g=\">高考 2025 报考指南</a>\n",
       "  </div>\n",
       "</div>\n"
      ],
      "text/plain": [
       "<IPython.core.display.HTML object>"
      ]
     },
     "metadata": {},
     "output_type": "display_data"
    }
   ],
   "source": [
    "show_parts(response)"
   ]
  },
  {
   "cell_type": "code",
   "execution_count": null,
   "id": "33a8a0a0-f796-4fed-9a13-18b6c7108c5d",
   "metadata": {},
   "outputs": [],
   "source": []
  },
  {
   "cell_type": "markdown",
   "id": "012f0690-9df4-46d5-9cb5-8168b81907ae",
   "metadata": {},
   "source": [
    "### citation"
   ]
  },
  {
   "cell_type": "markdown",
   "id": "14eb07fb-4bbc-4ee4-8680-bd131ad6227c",
   "metadata": {},
   "source": [
    "```python\n",
    "response = genai_client.models.generate_content(\n",
    "    model=configurable.query_generator_model,\n",
    "    contents=formatted_prompt,\n",
    "    config={\n",
    "        \"tools\": [{\"google_search\": {}}],\n",
    "        \"temperature\": 0,\n",
    "    },\n",
    ")\n",
    "```\n",
    "- `response`\n",
    "    - `response.text`: 模型生成的原始文本回答。\n",
    "    - `response.candidates[0].grounding_metadata`: \"溯源元数据\"，这是实现引用的关键。它详细记录了文本中的哪一段话 (segment) 是基于哪个搜索结果 (grounding_chunks) 生成的。\n",
    "    - resolve_urls\n",
    "        - { \"原始长链接\": \"生成的短链接\" }。"
   ]
  },
  {
   "cell_type": "markdown",
   "id": "a533b195-8760-4fc7-a19c-24d0071e8e10",
   "metadata": {},
   "source": [
    "## frontend"
   ]
  },
  {
   "cell_type": "markdown",
   "id": "3c599275-81c2-493e-887d-cde140c33d34",
   "metadata": {},
   "source": [
    "- App.tsx => main.tsx\n",
    "    - TypeScript + JSX\n",
    "    - TypeScript 是 JavaScript 的一个“超集”。可以把它想象成是“带有类型检查的 JavaScript”。\n",
    "\n",
    "```\n",
    "frontend/\n",
    "├── public/              # 存放静态资源，如网站图标 vite.svg\n",
    "├── src/\n",
    "│   ├── components/      # React 组件\n",
    "│   │   ├── ui/          # 从 shadcn/ui 来的基础 UI 组件\n",
    "│   │   ├── ActivityTimeline.tsx  # 显示代理思考过程的时间线组件\n",
    "│   │   ├── ChatMessagesView.tsx  # 聊天消息展示组件\n",
    "│   │   ├── InputForm.tsx         # 用户输入表单组件\n",
    "│   │   └── WelcomeScreen.tsx     # 欢迎界面组件\n",
    "│   │\n",
    "│   ├── lib/             # 工具函数\n",
    "│   │   └── utils.ts     # cn() 函数，用于合并 Tailwind CSS 类名\n",
    "│   │\n",
    "│   ├── App.tsx          # 应用主组件，组织了所有其他组件\n",
    "│   ├── main.tsx         # 应用入口文件，将 App 组件渲染到页面上\n",
    "│   └── global.css       # 全局样式和 Tailwind CSS 配置\n",
    "│\n",
    "├── package.json         # 项目依赖和脚本配置\n",
    "├── vite.config.ts       # Vite 配置文件，比如配置代理服务器\n",
    "└── tsconfig.json        # TypeScript 配置文件\n",
    "```\n",
    "\n",
    "\n",
    "```mermaid\n",
    "graph TD\n",
    "    subgraph \"Application Entry\"\n",
    "        A[\"main.tsx\"] --> B[\"App.tsx\"]\n",
    "    end\n",
    "\n",
    "    subgraph \"Main Application Logic (App.tsx)\"\n",
    "        B --> C{\"messages.length === 0 ?\"}\n",
    "        C -- Yes --> D[\"WelcomeScreen\"]\n",
    "        C -- No --> E[\"ChatMessagesView\"]\n",
    "    end\n",
    "\n",
    "    subgraph \"Welcome Screen\"\n",
    "        D --> F[\"InputForm\"]\n",
    "    end\n",
    "\n",
    "    subgraph \"Chat View\"\n",
    "        E --> G[\"HumanMessageBubble\"]\n",
    "        E --> H[\"AiMessageBubble\"]\n",
    "        E --> F\n",
    "        H --> I[\"ActivityTimeline\"]\n",
    "    end\n",
    "\n",
    "    subgraph \"Shared & UI Components\"\n",
    "        F --> J[\"ui/Button, ui/Textarea, etc.\"]\n",
    "        I --> K[\"ui/Card, etc.\"]\n",
    "        G --> K\n",
    "        H --> K\n",
    "    end\n",
    "\n",
    "    style B fill:#f9f,stroke:#333,stroke-width:2px\n",
    "    style F fill:#ccf,stroke:#333,stroke-width:2px\n",
    "    style I fill:#cfc,stroke:#333,stroke-width:2px\n",
    "    style E fill:#fcf,stroke:#333,stroke-width:2px\n",
    "```"
   ]
  }
 ],
 "metadata": {
  "kernelspec": {
   "display_name": "Python 3 (ipykernel)",
   "language": "python",
   "name": "python3"
  },
  "language_info": {
   "codemirror_mode": {
    "name": "ipython",
    "version": 3
   },
   "file_extension": ".py",
   "mimetype": "text/x-python",
   "name": "python",
   "nbconvert_exporter": "python",
   "pygments_lexer": "ipython3",
   "version": "3.10.0"
  }
 },
 "nbformat": 4,
 "nbformat_minor": 5
}
