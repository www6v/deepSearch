{
 "cells": [
  {
   "cell_type": "markdown",
   "id": "e06af912-c18e-413c-8745-637e124170e6",
   "metadata": {},
   "source": [
    "- https://www.anthropic.com/engineering/built-multi-agent-research-system\n",
    "    - https://www.youtube.com/watch?v=os5Qxk9tfr0\n",
    "- https://langchain-ai.github.io/langgraph/how-tos/multi_agent/\n",
    "    - https://langchain-ai.github.io/langgraph/agents/multi-agent/"
   ]
  },
  {
   "cell_type": "code",
   "execution_count": 1,
   "id": "3f5e9f0b-e336-4105-8b24-a64576b39585",
   "metadata": {},
   "outputs": [],
   "source": [
    "from IPython.display import Image"
   ]
  },
  {
   "cell_type": "markdown",
   "id": "bab13562-9281-48d8-b6a1-6dbac9ea26af",
   "metadata": {},
   "source": [
    "- A multi-agent system consists of multiple agents (LLMs autonomously using tools in a loop) working together.\n",
    "- Research work involves open-ended problems where it’s very difficult to **predict the required steps in advance**. You can’t hardcode **a fixed path** for exploring complex topics, as the process is inherently dynamic and path-dependent. \n",
    "- The essence of search is compression: **distilling insights from a vast corpus**. \n",
    "    - Each subagent also provides **separation of concerns**—distinct tools, prompts, and exploration trajectories—which reduces path dependency and enables thorough, independent investigations.\n",
    "- Our internal evaluations show that multi-agent research systems excel especially for **breadth-first queries** that involve pursuing multiple independent directions simultaneously.\n",
    "    - We found that a multi-agent system with **Claude Opus 4 as the lead agent** and **Claude Sonnet 4 subagents** outperformed single-agent Claude Opus 4 by 90.2% on our internal research eval.\n",
    "    - Multi-agent systems work mainly because they help **spend enough tokens** to solve the problem.\n",
    "        - test-time compute\n",
    "- 效率与经济"
   ]
  },
  {
   "cell_type": "code",
   "execution_count": 2,
   "id": "fda973db-3872-44da-a68d-35ae8bd6d1f8",
   "metadata": {},
   "outputs": [
    {
     "data": {
      "text/html": [
       "<img src=\"https://www.anthropic.com/_next/image?url=https%3A%2F%2Fwww-cdn.anthropic.com%2Fimages%2F4zrzovbb%2Fwebsite%2F1198befc0b33726c45692ac40f764022f4de1bf2-4584x2579.png&w=3840&q=75\" width=\"500\"/>"
      ],
      "text/plain": [
       "<IPython.core.display.Image object>"
      ]
     },
     "execution_count": 2,
     "metadata": {},
     "output_type": "execute_result"
    }
   ],
   "source": [
    "Image(url='https://www.anthropic.com/_next/image?url=https%3A%2F%2Fwww-cdn.anthropic.com%2Fimages%2F4zrzovbb%2Fwebsite%2F1198befc0b33726c45692ac40f764022f4de1bf2-4584x2579.png&w=3840&q=75', width=500)"
   ]
  },
  {
   "cell_type": "markdown",
   "id": "8fe051ab-4866-43c3-8c5f-c099cb8bdcf1",
   "metadata": {},
   "source": [
    "- “2025年在美国从事AI智能体的所有公司有哪些？列出至少100家，并提供公司名称、网站、产品、业务描述、他们构建的智能体类型以及所属的垂直行业/领域。”\n",
    "- 这类问题正是博文中所说的“开放式问题”或“广度优先查询”，很难通过一次性的、线性的步骤来解决。它需要动态地探索、发现和整合信息，这正是多智能体系统所擅长的。\n",
    "- lead agent\n",
    "    - 任务分解与委派: 它将复杂的总任务分解成多个可以并行处理的子任务，然后创建（spawn）专门的“子智能体”来执行这些子任务。例如，对于寻找100家公司的任务，它可能会创建多个子智能体，每个负责搜索特定行业或特定类型的AI公司。\n",
    "    - 与Memory交互: 主智能体需要与一个“记忆”模块交互。为了防止在长流程中因上下文窗口（Context Window）限制而丢失关键信息（比如最初制定的计划），主智能体会将它的研究计划保存在Memory中。这样即使后续对话很长，它也能随时取回最初的计划，保持任务的连贯性。\n",
    "- Subagents\n",
    "    - 并行搜索 (Search subagent): 多个搜索子智能体可以同时工作，各自探索问题的不同方面。这极大地提高了效率和覆盖范围。博文强调，这种并行化能将复杂查询的研究时间缩短高达90%。\n",
    "    - 迭代工作 (自循环箭头): 每个搜索子智能体内部会进行迭代。它会先进行一次搜索，然后根据结果评估信息质量，再决定下一步的搜索查询，如此循环，直到找到满意的结果。博文中称之为“interleaved thinking”（交错思考）。\n",
    "    - 信息压缩与过滤: 子智能体不仅仅是搜索，它们还扮演着“智能过滤器”的角色，将从大量信息中提炼出的最关键内容（condensing the most important tokens）返回给主智能体，而不是返回原始的、未经处理的数据。\n",
    "    - 引用处理 (Citations subagent): 这是一个专门化的子智能体。在主智能体整合完所有研究结果、形成初步报告后，会将报告和原始资料交给这个引用子智能体。它的任务是精确地为报告中的每一项声明找到并添加来源引用，确保最终报告的严谨性和可信度。"
   ]
  },
  {
   "cell_type": "markdown",
   "id": "380c3e32-7b1c-4d5a-a05e-ebf0cfb44777",
   "metadata": {},
   "source": [
    "### principles we learned for prompting agents"
   ]
  },
  {
   "cell_type": "markdown",
   "id": "5e39f04f-53c6-471c-a046-889531afcc1f",
   "metadata": {},
   "source": [
    "- Think like your agents\n",
    "- Teach the orchestrator how to delegate.\n",
    "- Scale effort to query complexity.\n",
    "- Tool design and selection are critical."
   ]
  }
 ],
 "metadata": {
  "kernelspec": {
   "display_name": "Python 3 (ipykernel)",
   "language": "python",
   "name": "python3"
  },
  "language_info": {
   "codemirror_mode": {
    "name": "ipython",
    "version": 3
   },
   "file_extension": ".py",
   "mimetype": "text/x-python",
   "name": "python",
   "nbconvert_exporter": "python",
   "pygments_lexer": "ipython3",
   "version": "3.10.0"
  }
 },
 "nbformat": 4,
 "nbformat_minor": 5
}
